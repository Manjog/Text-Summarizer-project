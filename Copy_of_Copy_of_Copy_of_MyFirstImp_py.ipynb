{
  "cells": [
    {
      "cell_type": "markdown",
      "metadata": {
        "id": "view-in-github",
        "colab_type": "text"
      },
      "source": [
        "<a href=\"https://colab.research.google.com/github/Manjog/Text-Summarizer-project/blob/main/Copy_of_Copy_of_Copy_of_MyFirstImp_py.ipynb\" target=\"_parent\"><img src=\"https://colab.research.google.com/assets/colab-badge.svg\" alt=\"Open In Colab\"/></a>"
      ]
    },
    {
      "cell_type": "code",
      "execution_count": null,
      "metadata": {
        "colab": {
          "base_uri": "https://localhost:8080/"
        },
        "id": "MM2aFaR8jOSR",
        "outputId": "851a7523-c7bd-4f06-fbfa-c01806ddf7ae"
      },
      "outputs": [
        {
          "output_type": "stream",
          "name": "stdout",
          "text": [
            "Requirement already satisfied: tensorflow-addons in /usr/local/lib/python3.10/dist-packages (0.20.0)\n",
            "Requirement already satisfied: packaging in /usr/local/lib/python3.10/dist-packages (from tensorflow-addons) (23.1)\n",
            "Requirement already satisfied: typeguard<3.0.0,>=2.7 in /usr/local/lib/python3.10/dist-packages (from tensorflow-addons) (2.13.3)\n"
          ]
        }
      ],
      "source": [
        "!pip install tensorflow-addons"
      ]
    },
    {
      "cell_type": "code",
      "execution_count": null,
      "metadata": {
        "colab": {
          "base_uri": "https://localhost:8080/"
        },
        "id": "_BHE09R10112",
        "outputId": "88bafe80-b531-4981-ae69-ec851aad4000"
      },
      "outputs": [
        {
          "output_type": "stream",
          "name": "stdout",
          "text": [
            "2.12.0\n"
          ]
        }
      ],
      "source": [
        "\n",
        "import tensorflow as tf\n",
        "from tensorflow.keras.preprocessing.text import Tokenizer\n",
        "from tensorflow.keras.preprocessing.sequence import pad_sequences\n",
        "#from tensorflow.keras.callbacks import ModelCheckpoint\n",
        "#from tensorflow.keras.layers import TransformerEncoder\n",
        "print(tf.__version__)\n",
        "import tensorflow as tf\n",
        "from tensorflow.keras.layers import Input, Dense\n",
        "from tensorflow.keras.models import Model\n",
        "from tensorflow.keras.optimizers import Adam\n",
        "from tensorflow.keras.losses import SparseCategoricalCrossentropy\n",
        "from tensorflow.keras.metrics import SparseCategoricalAccuracy\n",
        "from tensorflow.keras.activations import softmax\n",
        "from torchvision import transforms\n",
        "\n",
        "\n"
      ]
    },
    {
      "cell_type": "code",
      "source": [
        "!pip install transformers\n"
      ],
      "metadata": {
        "colab": {
          "base_uri": "https://localhost:8080/"
        },
        "id": "RlAGIhTgsS-H",
        "outputId": "0ba41b05-9ded-4272-d1f2-7e371ca514d3"
      },
      "execution_count": null,
      "outputs": [
        {
          "output_type": "stream",
          "name": "stdout",
          "text": [
            "Requirement already satisfied: transformers in /usr/local/lib/python3.10/dist-packages (4.30.2)\n",
            "Requirement already satisfied: filelock in /usr/local/lib/python3.10/dist-packages (from transformers) (3.12.2)\n",
            "Requirement already satisfied: huggingface-hub<1.0,>=0.14.1 in /usr/local/lib/python3.10/dist-packages (from transformers) (0.15.1)\n",
            "Requirement already satisfied: numpy>=1.17 in /usr/local/lib/python3.10/dist-packages (from transformers) (1.22.4)\n",
            "Requirement already satisfied: packaging>=20.0 in /usr/local/lib/python3.10/dist-packages (from transformers) (23.1)\n",
            "Requirement already satisfied: pyyaml>=5.1 in /usr/local/lib/python3.10/dist-packages (from transformers) (6.0)\n",
            "Requirement already satisfied: regex!=2019.12.17 in /usr/local/lib/python3.10/dist-packages (from transformers) (2022.10.31)\n",
            "Requirement already satisfied: requests in /usr/local/lib/python3.10/dist-packages (from transformers) (2.27.1)\n",
            "Requirement already satisfied: tokenizers!=0.11.3,<0.14,>=0.11.1 in /usr/local/lib/python3.10/dist-packages (from transformers) (0.13.3)\n",
            "Requirement already satisfied: safetensors>=0.3.1 in /usr/local/lib/python3.10/dist-packages (from transformers) (0.3.1)\n",
            "Requirement already satisfied: tqdm>=4.27 in /usr/local/lib/python3.10/dist-packages (from transformers) (4.65.0)\n",
            "Requirement already satisfied: fsspec in /usr/local/lib/python3.10/dist-packages (from huggingface-hub<1.0,>=0.14.1->transformers) (2023.6.0)\n",
            "Requirement already satisfied: typing-extensions>=3.7.4.3 in /usr/local/lib/python3.10/dist-packages (from huggingface-hub<1.0,>=0.14.1->transformers) (4.6.3)\n",
            "Requirement already satisfied: urllib3<1.27,>=1.21.1 in /usr/local/lib/python3.10/dist-packages (from requests->transformers) (1.26.16)\n",
            "Requirement already satisfied: certifi>=2017.4.17 in /usr/local/lib/python3.10/dist-packages (from requests->transformers) (2023.5.7)\n",
            "Requirement already satisfied: charset-normalizer~=2.0.0 in /usr/local/lib/python3.10/dist-packages (from requests->transformers) (2.0.12)\n",
            "Requirement already satisfied: idna<4,>=2.5 in /usr/local/lib/python3.10/dist-packages (from requests->transformers) (3.4)\n"
          ]
        }
      ]
    },
    {
      "cell_type": "code",
      "execution_count": null,
      "metadata": {
        "id": "_SSy9SvMjEoT"
      },
      "outputs": [],
      "source": [
        "import numpy as np\n",
        "import pandas as pd\n",
        "import nltk\n",
        "from nltk.corpus import stopwords\n",
        "from nltk.tokenize import word_tokenize\n"
      ]
    },
    {
      "cell_type": "code",
      "execution_count": null,
      "metadata": {
        "id": "COfyRfckrYjv"
      },
      "outputs": [],
      "source": [
        "#input_dat='/content/drive/MyDrive/cnn_dailymail/test.csv'\n",
        "#dataset = pd.read_csv('/content/drive/MyDrive/cnn_dailymail/test.csv')\n",
        "input_dat='/content/drive/MyDrive/cnn_dailymail/test.csv'\n",
        "dataset=pd.read_csv(input_dat)"
      ]
    },
    {
      "cell_type": "code",
      "source": [
        "dataset = dataset.rename(columns={\"highlights\":\"target_text\", \"article\":\"source_text\"})\n",
        "dataset = dataset[['source_text', 'target_text']]"
      ],
      "metadata": {
        "id": "9t4TO2qcNUwD"
      },
      "execution_count": null,
      "outputs": []
    },
    {
      "cell_type": "code",
      "execution_count": null,
      "metadata": {
        "colab": {
          "base_uri": "https://localhost:8080/",
          "height": 424
        },
        "id": "VVHI_6ykrtdp",
        "outputId": "4603bde5-926d-4be7-a27d-d4b793dc3be6"
      },
      "outputs": [
        {
          "output_type": "execute_result",
          "data": {
            "text/plain": [
              "                                             source_text  \\\n",
              "0      Ever noticed how plane seats appear to be gett...   \n",
              "1      A drunk teenage boy had to be rescued by secur...   \n",
              "2      Dougie Freedman is on the verge of agreeing a ...   \n",
              "3      Liverpool target Neto is also wanted by PSG an...   \n",
              "4      Bruce Jenner will break his silence in a two-h...   \n",
              "...                                                  ...   \n",
              "11485  Our young Earth may have collided with a body ...   \n",
              "11486  A man facing trial for helping his former love...   \n",
              "11487  A dozen or more metal implements are arranged ...   \n",
              "11488  Brook Lopez dominated twin brother Robin with ...   \n",
              "11489  A Chinese hospital is being painstakingly move...   \n",
              "\n",
              "                                             target_text  \n",
              "0      Experts question if  packed out planes are put...  \n",
              "1      Drunk teenage boy climbed into lion enclosure ...  \n",
              "2      Nottingham Forest are close to extending Dougi...  \n",
              "3      Fiorentina goalkeeper Neto has been linked wit...  \n",
              "4      Tell-all interview with the reality TV star, 6...  \n",
              "...                                                  ...  \n",
              "11485  Oxford scientists say a Mercury-like body stru...  \n",
              "11486  Man accused of helping former lover kill woman...  \n",
              "11487  Marianne Power tried the tuning fork facial at...  \n",
              "11488  Brooklyn Nets beat the Portland Trail Blazers ...  \n",
              "11489  Chinese hospital marked for demolition because...  \n",
              "\n",
              "[11490 rows x 2 columns]"
            ],
            "text/html": [
              "\n",
              "  <div id=\"df-0f4fcd30-9cbe-45f1-bebe-51906f9b9641\">\n",
              "    <div class=\"colab-df-container\">\n",
              "      <div>\n",
              "<style scoped>\n",
              "    .dataframe tbody tr th:only-of-type {\n",
              "        vertical-align: middle;\n",
              "    }\n",
              "\n",
              "    .dataframe tbody tr th {\n",
              "        vertical-align: top;\n",
              "    }\n",
              "\n",
              "    .dataframe thead th {\n",
              "        text-align: right;\n",
              "    }\n",
              "</style>\n",
              "<table border=\"1\" class=\"dataframe\">\n",
              "  <thead>\n",
              "    <tr style=\"text-align: right;\">\n",
              "      <th></th>\n",
              "      <th>source_text</th>\n",
              "      <th>target_text</th>\n",
              "    </tr>\n",
              "  </thead>\n",
              "  <tbody>\n",
              "    <tr>\n",
              "      <th>0</th>\n",
              "      <td>Ever noticed how plane seats appear to be gett...</td>\n",
              "      <td>Experts question if  packed out planes are put...</td>\n",
              "    </tr>\n",
              "    <tr>\n",
              "      <th>1</th>\n",
              "      <td>A drunk teenage boy had to be rescued by secur...</td>\n",
              "      <td>Drunk teenage boy climbed into lion enclosure ...</td>\n",
              "    </tr>\n",
              "    <tr>\n",
              "      <th>2</th>\n",
              "      <td>Dougie Freedman is on the verge of agreeing a ...</td>\n",
              "      <td>Nottingham Forest are close to extending Dougi...</td>\n",
              "    </tr>\n",
              "    <tr>\n",
              "      <th>3</th>\n",
              "      <td>Liverpool target Neto is also wanted by PSG an...</td>\n",
              "      <td>Fiorentina goalkeeper Neto has been linked wit...</td>\n",
              "    </tr>\n",
              "    <tr>\n",
              "      <th>4</th>\n",
              "      <td>Bruce Jenner will break his silence in a two-h...</td>\n",
              "      <td>Tell-all interview with the reality TV star, 6...</td>\n",
              "    </tr>\n",
              "    <tr>\n",
              "      <th>...</th>\n",
              "      <td>...</td>\n",
              "      <td>...</td>\n",
              "    </tr>\n",
              "    <tr>\n",
              "      <th>11485</th>\n",
              "      <td>Our young Earth may have collided with a body ...</td>\n",
              "      <td>Oxford scientists say a Mercury-like body stru...</td>\n",
              "    </tr>\n",
              "    <tr>\n",
              "      <th>11486</th>\n",
              "      <td>A man facing trial for helping his former love...</td>\n",
              "      <td>Man accused of helping former lover kill woman...</td>\n",
              "    </tr>\n",
              "    <tr>\n",
              "      <th>11487</th>\n",
              "      <td>A dozen or more metal implements are arranged ...</td>\n",
              "      <td>Marianne Power tried the tuning fork facial at...</td>\n",
              "    </tr>\n",
              "    <tr>\n",
              "      <th>11488</th>\n",
              "      <td>Brook Lopez dominated twin brother Robin with ...</td>\n",
              "      <td>Brooklyn Nets beat the Portland Trail Blazers ...</td>\n",
              "    </tr>\n",
              "    <tr>\n",
              "      <th>11489</th>\n",
              "      <td>A Chinese hospital is being painstakingly move...</td>\n",
              "      <td>Chinese hospital marked for demolition because...</td>\n",
              "    </tr>\n",
              "  </tbody>\n",
              "</table>\n",
              "<p>11490 rows × 2 columns</p>\n",
              "</div>\n",
              "      <button class=\"colab-df-convert\" onclick=\"convertToInteractive('df-0f4fcd30-9cbe-45f1-bebe-51906f9b9641')\"\n",
              "              title=\"Convert this dataframe to an interactive table.\"\n",
              "              style=\"display:none;\">\n",
              "        \n",
              "  <svg xmlns=\"http://www.w3.org/2000/svg\" height=\"24px\"viewBox=\"0 0 24 24\"\n",
              "       width=\"24px\">\n",
              "    <path d=\"M0 0h24v24H0V0z\" fill=\"none\"/>\n",
              "    <path d=\"M18.56 5.44l.94 2.06.94-2.06 2.06-.94-2.06-.94-.94-2.06-.94 2.06-2.06.94zm-11 1L8.5 8.5l.94-2.06 2.06-.94-2.06-.94L8.5 2.5l-.94 2.06-2.06.94zm10 10l.94 2.06.94-2.06 2.06-.94-2.06-.94-.94-2.06-.94 2.06-2.06.94z\"/><path d=\"M17.41 7.96l-1.37-1.37c-.4-.4-.92-.59-1.43-.59-.52 0-1.04.2-1.43.59L10.3 9.45l-7.72 7.72c-.78.78-.78 2.05 0 2.83L4 21.41c.39.39.9.59 1.41.59.51 0 1.02-.2 1.41-.59l7.78-7.78 2.81-2.81c.8-.78.8-2.07 0-2.86zM5.41 20L4 18.59l7.72-7.72 1.47 1.35L5.41 20z\"/>\n",
              "  </svg>\n",
              "      </button>\n",
              "      \n",
              "  <style>\n",
              "    .colab-df-container {\n",
              "      display:flex;\n",
              "      flex-wrap:wrap;\n",
              "      gap: 12px;\n",
              "    }\n",
              "\n",
              "    .colab-df-convert {\n",
              "      background-color: #E8F0FE;\n",
              "      border: none;\n",
              "      border-radius: 50%;\n",
              "      cursor: pointer;\n",
              "      display: none;\n",
              "      fill: #1967D2;\n",
              "      height: 32px;\n",
              "      padding: 0 0 0 0;\n",
              "      width: 32px;\n",
              "    }\n",
              "\n",
              "    .colab-df-convert:hover {\n",
              "      background-color: #E2EBFA;\n",
              "      box-shadow: 0px 1px 2px rgba(60, 64, 67, 0.3), 0px 1px 3px 1px rgba(60, 64, 67, 0.15);\n",
              "      fill: #174EA6;\n",
              "    }\n",
              "\n",
              "    [theme=dark] .colab-df-convert {\n",
              "      background-color: #3B4455;\n",
              "      fill: #D2E3FC;\n",
              "    }\n",
              "\n",
              "    [theme=dark] .colab-df-convert:hover {\n",
              "      background-color: #434B5C;\n",
              "      box-shadow: 0px 1px 3px 1px rgba(0, 0, 0, 0.15);\n",
              "      filter: drop-shadow(0px 1px 2px rgba(0, 0, 0, 0.3));\n",
              "      fill: #FFFFFF;\n",
              "    }\n",
              "  </style>\n",
              "\n",
              "      <script>\n",
              "        const buttonEl =\n",
              "          document.querySelector('#df-0f4fcd30-9cbe-45f1-bebe-51906f9b9641 button.colab-df-convert');\n",
              "        buttonEl.style.display =\n",
              "          google.colab.kernel.accessAllowed ? 'block' : 'none';\n",
              "\n",
              "        async function convertToInteractive(key) {\n",
              "          const element = document.querySelector('#df-0f4fcd30-9cbe-45f1-bebe-51906f9b9641');\n",
              "          const dataTable =\n",
              "            await google.colab.kernel.invokeFunction('convertToInteractive',\n",
              "                                                     [key], {});\n",
              "          if (!dataTable) return;\n",
              "\n",
              "          const docLinkHtml = 'Like what you see? Visit the ' +\n",
              "            '<a target=\"_blank\" href=https://colab.research.google.com/notebooks/data_table.ipynb>data table notebook</a>'\n",
              "            + ' to learn more about interactive tables.';\n",
              "          element.innerHTML = '';\n",
              "          dataTable['output_type'] = 'display_data';\n",
              "          await google.colab.output.renderOutput(dataTable, element);\n",
              "          const docLink = document.createElement('div');\n",
              "          docLink.innerHTML = docLinkHtml;\n",
              "          element.appendChild(docLink);\n",
              "        }\n",
              "      </script>\n",
              "    </div>\n",
              "  </div>\n",
              "  "
            ]
          },
          "metadata": {},
          "execution_count": 22
        }
      ],
      "source": [
        "dataset"
      ]
    },
    {
      "cell_type": "code",
      "execution_count": null,
      "metadata": {
        "id": "7za2pWR_5z3T"
      },
      "outputs": [],
      "source": [
        "puncts = [',', '.', '\"', ':', ')', '(', '-', '!', '?', '|', ';', \"'\", '$', '&', '/', '[', ']', '>', '%', '=', '#', '*', '+', '\\\\', '•',  '~', '@', '£',\n",
        " '·', '_', '{', '}', '©', '^', '®', '`',  '<', '→', '°', '€', '™', '›',  '♥', '←', '×', '§', '″', '′', 'Â', '█', '½', 'à', '…',\n",
        " '“', '★', '”', '–', '●', 'â', '►', '−', '¢', '²', '¬', '░', '¶', '↑', '±', '¿', '▾', '═', '¦', '║', '―', '¥', '▓', '—', '‹', '─',\n",
        " '▒', '：', '¼', '⊕', '▼', '▪', '†', '■', '’', '▀', '¨', '▄', '♫', '☆', 'é', '¯', '♦', '¤', '▲', 'è', '¸', '¾', 'Ã', '⋅', '‘', '∞',\n",
        " '∙', '）', '↓', '、', '│', '（', '»', '，', '♪', '╩', '╚', '³', '・', '╦', '╣', '╔', '╗', '▬', '❤', 'ï', 'Ø', '¹', '≤', '‡', '√','\\n',]\n",
        "\n",
        "\n",
        "\n",
        "def clean_textt(x):\n",
        "    x = str(x)\n",
        "    for punct in puncts:\n",
        "        if punct in x:\n",
        "            x = x.replace(punct, '')\n",
        "    return x\n",
        "\n",
        "#can also be done with regex\n",
        "#def clean_text(x):\n",
        " #   pattern = r'[^a-zA-z0-9\\s]'\n",
        "  #  text = re.sub(pattern, '', x)\n",
        "   # return x\n",
        "\n",
        "def clean_numbers(x):\n",
        "    if bool(re.search(r'\\d', x)):\n",
        "        x = re.sub('[0-9]{5,}', '#####', x)\n",
        "        x = re.sub('[0-9]{4}', '####', x)\n",
        "        x = re.sub('[0-9]{3}', '###', x)\n",
        "        x = re.sub('[0-9]{2}', '##', x)\n",
        "    return x"
      ]
    },
    {
      "cell_type": "code",
      "execution_count": null,
      "metadata": {
        "id": "wglzY2l56o3F"
      },
      "outputs": [],
      "source": [
        "dataset=dataset[['source_text','target_text']].applymap(clean_textt)"
      ]
    },
    {
      "cell_type": "code",
      "execution_count": null,
      "metadata": {
        "colab": {
          "base_uri": "https://localhost:8080/",
          "height": 424
        },
        "id": "Q-qXfJKZ7Lm8",
        "outputId": "b12044da-08dc-4b09-e7b7-e1341cbea6a6"
      },
      "outputs": [
        {
          "output_type": "execute_result",
          "data": {
            "text/plain": [
              "                                             source_text  \\\n",
              "0      Ever noticed how plane seats appear to be gett...   \n",
              "1      A drunk teenage boy had to be rescued by secur...   \n",
              "2      Dougie Freedman is on the verge of agreeing a ...   \n",
              "3      Liverpool target Neto is also wanted by PSG an...   \n",
              "4      Bruce Jenner will break his silence in a twoho...   \n",
              "...                                                  ...   \n",
              "11485  Our young Earth may have collided with a body ...   \n",
              "11486  A man facing trial for helping his former love...   \n",
              "11487  A dozen or more metal implements are arranged ...   \n",
              "11488  Brook Lopez dominated twin brother Robin with ...   \n",
              "11489  A Chinese hospital is being painstakingly move...   \n",
              "\n",
              "                                             target_text  \n",
              "0      Experts question if  packed out planes are put...  \n",
              "1      Drunk teenage boy climbed into lion enclosure ...  \n",
              "2      Nottingham Forest are close to extending Dougi...  \n",
              "3      Fiorentina goalkeeper Neto has been linked wit...  \n",
              "4      Tellall interview with the reality TV star 69 ...  \n",
              "...                                                  ...  \n",
              "11485  Oxford scientists say a Mercurylike body struc...  \n",
              "11486  Man accused of helping former lover kill woman...  \n",
              "11487  Marianne Power tried the tuning fork facial at...  \n",
              "11488  Brooklyn Nets beat the Portland Trail Blazers ...  \n",
              "11489  Chinese hospital marked for demolition because...  \n",
              "\n",
              "[11490 rows x 2 columns]"
            ],
            "text/html": [
              "\n",
              "  <div id=\"df-f0c0302a-5238-4576-a029-079ecf5955b1\">\n",
              "    <div class=\"colab-df-container\">\n",
              "      <div>\n",
              "<style scoped>\n",
              "    .dataframe tbody tr th:only-of-type {\n",
              "        vertical-align: middle;\n",
              "    }\n",
              "\n",
              "    .dataframe tbody tr th {\n",
              "        vertical-align: top;\n",
              "    }\n",
              "\n",
              "    .dataframe thead th {\n",
              "        text-align: right;\n",
              "    }\n",
              "</style>\n",
              "<table border=\"1\" class=\"dataframe\">\n",
              "  <thead>\n",
              "    <tr style=\"text-align: right;\">\n",
              "      <th></th>\n",
              "      <th>source_text</th>\n",
              "      <th>target_text</th>\n",
              "    </tr>\n",
              "  </thead>\n",
              "  <tbody>\n",
              "    <tr>\n",
              "      <th>0</th>\n",
              "      <td>Ever noticed how plane seats appear to be gett...</td>\n",
              "      <td>Experts question if  packed out planes are put...</td>\n",
              "    </tr>\n",
              "    <tr>\n",
              "      <th>1</th>\n",
              "      <td>A drunk teenage boy had to be rescued by secur...</td>\n",
              "      <td>Drunk teenage boy climbed into lion enclosure ...</td>\n",
              "    </tr>\n",
              "    <tr>\n",
              "      <th>2</th>\n",
              "      <td>Dougie Freedman is on the verge of agreeing a ...</td>\n",
              "      <td>Nottingham Forest are close to extending Dougi...</td>\n",
              "    </tr>\n",
              "    <tr>\n",
              "      <th>3</th>\n",
              "      <td>Liverpool target Neto is also wanted by PSG an...</td>\n",
              "      <td>Fiorentina goalkeeper Neto has been linked wit...</td>\n",
              "    </tr>\n",
              "    <tr>\n",
              "      <th>4</th>\n",
              "      <td>Bruce Jenner will break his silence in a twoho...</td>\n",
              "      <td>Tellall interview with the reality TV star 69 ...</td>\n",
              "    </tr>\n",
              "    <tr>\n",
              "      <th>...</th>\n",
              "      <td>...</td>\n",
              "      <td>...</td>\n",
              "    </tr>\n",
              "    <tr>\n",
              "      <th>11485</th>\n",
              "      <td>Our young Earth may have collided with a body ...</td>\n",
              "      <td>Oxford scientists say a Mercurylike body struc...</td>\n",
              "    </tr>\n",
              "    <tr>\n",
              "      <th>11486</th>\n",
              "      <td>A man facing trial for helping his former love...</td>\n",
              "      <td>Man accused of helping former lover kill woman...</td>\n",
              "    </tr>\n",
              "    <tr>\n",
              "      <th>11487</th>\n",
              "      <td>A dozen or more metal implements are arranged ...</td>\n",
              "      <td>Marianne Power tried the tuning fork facial at...</td>\n",
              "    </tr>\n",
              "    <tr>\n",
              "      <th>11488</th>\n",
              "      <td>Brook Lopez dominated twin brother Robin with ...</td>\n",
              "      <td>Brooklyn Nets beat the Portland Trail Blazers ...</td>\n",
              "    </tr>\n",
              "    <tr>\n",
              "      <th>11489</th>\n",
              "      <td>A Chinese hospital is being painstakingly move...</td>\n",
              "      <td>Chinese hospital marked for demolition because...</td>\n",
              "    </tr>\n",
              "  </tbody>\n",
              "</table>\n",
              "<p>11490 rows × 2 columns</p>\n",
              "</div>\n",
              "      <button class=\"colab-df-convert\" onclick=\"convertToInteractive('df-f0c0302a-5238-4576-a029-079ecf5955b1')\"\n",
              "              title=\"Convert this dataframe to an interactive table.\"\n",
              "              style=\"display:none;\">\n",
              "        \n",
              "  <svg xmlns=\"http://www.w3.org/2000/svg\" height=\"24px\"viewBox=\"0 0 24 24\"\n",
              "       width=\"24px\">\n",
              "    <path d=\"M0 0h24v24H0V0z\" fill=\"none\"/>\n",
              "    <path d=\"M18.56 5.44l.94 2.06.94-2.06 2.06-.94-2.06-.94-.94-2.06-.94 2.06-2.06.94zm-11 1L8.5 8.5l.94-2.06 2.06-.94-2.06-.94L8.5 2.5l-.94 2.06-2.06.94zm10 10l.94 2.06.94-2.06 2.06-.94-2.06-.94-.94-2.06-.94 2.06-2.06.94z\"/><path d=\"M17.41 7.96l-1.37-1.37c-.4-.4-.92-.59-1.43-.59-.52 0-1.04.2-1.43.59L10.3 9.45l-7.72 7.72c-.78.78-.78 2.05 0 2.83L4 21.41c.39.39.9.59 1.41.59.51 0 1.02-.2 1.41-.59l7.78-7.78 2.81-2.81c.8-.78.8-2.07 0-2.86zM5.41 20L4 18.59l7.72-7.72 1.47 1.35L5.41 20z\"/>\n",
              "  </svg>\n",
              "      </button>\n",
              "      \n",
              "  <style>\n",
              "    .colab-df-container {\n",
              "      display:flex;\n",
              "      flex-wrap:wrap;\n",
              "      gap: 12px;\n",
              "    }\n",
              "\n",
              "    .colab-df-convert {\n",
              "      background-color: #E8F0FE;\n",
              "      border: none;\n",
              "      border-radius: 50%;\n",
              "      cursor: pointer;\n",
              "      display: none;\n",
              "      fill: #1967D2;\n",
              "      height: 32px;\n",
              "      padding: 0 0 0 0;\n",
              "      width: 32px;\n",
              "    }\n",
              "\n",
              "    .colab-df-convert:hover {\n",
              "      background-color: #E2EBFA;\n",
              "      box-shadow: 0px 1px 2px rgba(60, 64, 67, 0.3), 0px 1px 3px 1px rgba(60, 64, 67, 0.15);\n",
              "      fill: #174EA6;\n",
              "    }\n",
              "\n",
              "    [theme=dark] .colab-df-convert {\n",
              "      background-color: #3B4455;\n",
              "      fill: #D2E3FC;\n",
              "    }\n",
              "\n",
              "    [theme=dark] .colab-df-convert:hover {\n",
              "      background-color: #434B5C;\n",
              "      box-shadow: 0px 1px 3px 1px rgba(0, 0, 0, 0.15);\n",
              "      filter: drop-shadow(0px 1px 2px rgba(0, 0, 0, 0.3));\n",
              "      fill: #FFFFFF;\n",
              "    }\n",
              "  </style>\n",
              "\n",
              "      <script>\n",
              "        const buttonEl =\n",
              "          document.querySelector('#df-f0c0302a-5238-4576-a029-079ecf5955b1 button.colab-df-convert');\n",
              "        buttonEl.style.display =\n",
              "          google.colab.kernel.accessAllowed ? 'block' : 'none';\n",
              "\n",
              "        async function convertToInteractive(key) {\n",
              "          const element = document.querySelector('#df-f0c0302a-5238-4576-a029-079ecf5955b1');\n",
              "          const dataTable =\n",
              "            await google.colab.kernel.invokeFunction('convertToInteractive',\n",
              "                                                     [key], {});\n",
              "          if (!dataTable) return;\n",
              "\n",
              "          const docLinkHtml = 'Like what you see? Visit the ' +\n",
              "            '<a target=\"_blank\" href=https://colab.research.google.com/notebooks/data_table.ipynb>data table notebook</a>'\n",
              "            + ' to learn more about interactive tables.';\n",
              "          element.innerHTML = '';\n",
              "          dataTable['output_type'] = 'display_data';\n",
              "          await google.colab.output.renderOutput(dataTable, element);\n",
              "          const docLink = document.createElement('div');\n",
              "          docLink.innerHTML = docLinkHtml;\n",
              "          element.appendChild(docLink);\n",
              "        }\n",
              "      </script>\n",
              "    </div>\n",
              "  </div>\n",
              "  "
            ]
          },
          "metadata": {},
          "execution_count": 25
        }
      ],
      "source": [
        "dataset"
      ]
    },
    {
      "cell_type": "code",
      "execution_count": null,
      "metadata": {
        "colab": {
          "base_uri": "https://localhost:8080/",
          "height": 140
        },
        "id": "liQ_ixX06CQX",
        "outputId": "c9f60568-7ea8-440b-a52c-6f54d0c95b27"
      },
      "outputs": [
        {
          "output_type": "execute_result",
          "data": {
            "text/plain": [
              "'A drunk teenage boy had to be rescued by security after jumping into a lions enclosure at a zoo in western India Rahul Kumar 17 clambered over the enclosure fence at the\\xa0Kamla Nehru Zoological Park in Ahmedabad and began running towards the animals shouting he would kill them Mr Kumar explained afterwards that he was drunk and thought Id stand a good chance against the predators Next level drunk Intoxicated Rahul Kumar 17 climbed into the lions enclosure at a zoo in Ahmedabad and began running towards the animals shouting Today I kill a lion Mr Kumar had been sitting near the enclosure when he suddenly made a dash for the lions surprising zoo security The intoxicated teenager ran towards the lions shouting Today I kill a lion or a lion kills me A zoo spokesman said Guards had earlier spotted him close to the enclosure but had no idea he was planing to enter it Fortunately there are eight moats to cross before getting to where the lions usually are and he fell into the second one allowing guards to catch up with him and take him out We then handed him over to the police Brave fool Fortunately Mr Kumar  fell into a moat as he ran towards the lions and could be rescued by zoo security staff before reaching the animals stock image Kumar later explained I dont really know why I did it I was drunk and thought Id stand a good chance A police spokesman said He has been cautioned and will be sent for psychiatric evaluation Fortunately for him the lions were asleep and the zoo guards acted quickly enough to prevent a tragedy similar to that in Delhi Last year a 20yearold man was mauled to death by a tiger in the Indian capital after climbing into its enclosure at the city zoo'"
            ],
            "application/vnd.google.colaboratory.intrinsic+json": {
              "type": "string"
            }
          },
          "metadata": {},
          "execution_count": 26
        }
      ],
      "source": [
        "dataset ['source_text'] [1]"
      ]
    },
    {
      "cell_type": "code",
      "source": [
        "dataset ['source_text'] [11489]"
      ],
      "metadata": {
        "colab": {
          "base_uri": "https://localhost:8080/",
          "height": 140
        },
        "id": "1JAV1jREYB2n",
        "outputId": "62bfceac-b988-4dd8-814e-7a14b5e06f62"
      },
      "execution_count": null,
      "outputs": [
        {
          "output_type": "execute_result",
          "data": {
            "text/plain": [
              "'A Chinese hospital is being painstakingly moved just eight metres a day on 1000 metal rollers  to prevent it from being demolished to make way for a new road The building which was built in the 1960s and belongs to Zheng Gong Hospital in Henan Province was under threat of demolition as it is situated in the path of a road expansion project reports\\xa0Peoples Daily Online But hospital bosses decided to save time and money  and avoid paying for a new building  and employed a team of engineers to put wheels on the building The twostorey brick hospital outpatient building in China is being rolled every day on giant metal wheels The large brick building is 1700 square metres in size and needs more than 1000 wheels to roll it  Now the twostorey hospital outpatient building in the city of Zhengzhou in central China is being slowly and carefully pushed just a few metres a day on the giant cylindershaped rollers The engineers aim to push the entire structure south by 175 metres to its new designated spot away from the demolition zone The wheels the building is being moved on are large cylindershaped metal rollers The Peoples Daily reports the large brick building is 1700 square metres in size and requires more than 1000 wheels to make the daily walk possible One of the engineers working on the project secures the metal sheeting and rollers which are being used  It will take three days of careful and slow rolling to move the hospital building 175m to its new safe spot  While it should only take three days to move the building to its newly assigned spot engineers say the preparation has taken over a month The entire building was initially placed on metal plates which then had the cylindershaped rollers wedged between them The ambitious project is expected to be completed in the next couple of days It is not the first time engineers in China have carried out such a move In November 2013 a sixstorey building in Shanghai which weighed 12000 tonnes was moved 38 metres with the help of 18 lifting jacks And according to the Guinness Book of Records the largest building to have ever been moved in this way is another Chinese achievement  in 2004 the Fu gang Building in Guangxi Province was moved 36 metres and took 11 days to complete The building was 111 feet tall and weighed 15140 tonnes The building has been placed on metal plates which have cylindershaped rollers wedged between them '"
            ],
            "application/vnd.google.colaboratory.intrinsic+json": {
              "type": "string"
            }
          },
          "metadata": {},
          "execution_count": 27
        }
      ]
    },
    {
      "cell_type": "code",
      "source": [
        "def remove_stopwords(text):\n",
        "    # Download stopwords if not already downloaded\n",
        "    nltk.download('stopwords')\n",
        "\n",
        "    # Download punkt tokenizer if not already downloaded\n",
        "    nltk.download('punkt')\n",
        "\n",
        "    # Get the list of stopwords\n",
        "    stop_words = set(stopwords.words('english'))\n",
        "\n",
        "    # Tokenize the input text\n",
        "    tokens = word_tokenize(text)\n",
        "\n",
        "    # Remove stopwords from the tokenized text\n",
        "    filtered_tokens = [token for token in tokens if token.lower() not in stop_words]\n",
        "\n",
        "    # Join the filtered tokens back into a single string\n",
        "    filtered_text = ' '.join(filtered_tokens)\n",
        "\n",
        "    return filtered_text"
      ],
      "metadata": {
        "id": "cnk2qn4xapmO"
      },
      "execution_count": null,
      "outputs": []
    },
    {
      "cell_type": "code",
      "source": [
        "dataset ['source_text'] [11489]"
      ],
      "metadata": {
        "colab": {
          "base_uri": "https://localhost:8080/",
          "height": 140
        },
        "id": "nH5qibk9cDE_",
        "outputId": "8360dc14-aad6-4cf2-98fb-a316315cecd3"
      },
      "execution_count": null,
      "outputs": [
        {
          "output_type": "execute_result",
          "data": {
            "text/plain": [
              "'A Chinese hospital is being painstakingly moved just eight metres a day on 1000 metal rollers  to prevent it from being demolished to make way for a new road The building which was built in the 1960s and belongs to Zheng Gong Hospital in Henan Province was under threat of demolition as it is situated in the path of a road expansion project reports\\xa0Peoples Daily Online But hospital bosses decided to save time and money  and avoid paying for a new building  and employed a team of engineers to put wheels on the building The twostorey brick hospital outpatient building in China is being rolled every day on giant metal wheels The large brick building is 1700 square metres in size and needs more than 1000 wheels to roll it  Now the twostorey hospital outpatient building in the city of Zhengzhou in central China is being slowly and carefully pushed just a few metres a day on the giant cylindershaped rollers The engineers aim to push the entire structure south by 175 metres to its new designated spot away from the demolition zone The wheels the building is being moved on are large cylindershaped metal rollers The Peoples Daily reports the large brick building is 1700 square metres in size and requires more than 1000 wheels to make the daily walk possible One of the engineers working on the project secures the metal sheeting and rollers which are being used  It will take three days of careful and slow rolling to move the hospital building 175m to its new safe spot  While it should only take three days to move the building to its newly assigned spot engineers say the preparation has taken over a month The entire building was initially placed on metal plates which then had the cylindershaped rollers wedged between them The ambitious project is expected to be completed in the next couple of days It is not the first time engineers in China have carried out such a move In November 2013 a sixstorey building in Shanghai which weighed 12000 tonnes was moved 38 metres with the help of 18 lifting jacks And according to the Guinness Book of Records the largest building to have ever been moved in this way is another Chinese achievement  in 2004 the Fu gang Building in Guangxi Province was moved 36 metres and took 11 days to complete The building was 111 feet tall and weighed 15140 tonnes The building has been placed on metal plates which have cylindershaped rollers wedged between them '"
            ],
            "application/vnd.google.colaboratory.intrinsic+json": {
              "type": "string"
            }
          },
          "metadata": {},
          "execution_count": 29
        }
      ]
    },
    {
      "cell_type": "code",
      "execution_count": null,
      "metadata": {
        "id": "9S3aVOFw0ZGR",
        "colab": {
          "base_uri": "https://localhost:8080/"
        },
        "outputId": "19bdd6df-9dab-4323-92f3-bfc19a7180ce"
      },
      "outputs": [
        {
          "output_type": "stream",
          "name": "stdout",
          "text": [
            "0        Ever noticed how plane seats appear to be gett...\n",
            "1        A drunk teenage boy had to be rescued by secur...\n",
            "2        Dougie Freedman is on the verge of agreeing a ...\n",
            "3        Liverpool target Neto is also wanted by PSG an...\n",
            "4        Bruce Jenner will break his silence in a twoho...\n",
            "                               ...                        \n",
            "11485    Our young Earth may have collided with a body ...\n",
            "11486    A man facing trial for helping his former love...\n",
            "11487    A dozen or more metal implements are arranged ...\n",
            "11488    Brook Lopez dominated twin brother Robin with ...\n",
            "11489    A Chinese hospital is being painstakingly move...\n",
            "Name: source_text, Length: 11490, dtype: object\n"
          ]
        }
      ],
      "source": [
        "# Prepare input data (example)\n",
        "texts = dataset['source_text']\n",
        "summaries = dataset['target_text']\n",
        "#texts = [data['article'] for data in dataset]\n",
        "#summaries = [data['highlights'] for data in dataset]\n",
        "print(texts)"
      ]
    },
    {
      "cell_type": "code",
      "execution_count": null,
      "metadata": {
        "id": "Z-gcEuP0Qi39",
        "colab": {
          "base_uri": "https://localhost:8080/"
        },
        "outputId": "87037b1e-96af-43d9-dab4-4d82ad023de3"
      },
      "outputs": [
        {
          "output_type": "stream",
          "name": "stderr",
          "text": [
            "IOPub data rate exceeded.\n",
            "The notebook server will temporarily stop sending output\n",
            "to the client in order to avoid crashing it.\n",
            "To change this limit, set the config variable\n",
            "`--NotebookApp.iopub_data_rate_limit`.\n",
            "\n",
            "Current values:\n",
            "NotebookApp.iopub_data_rate_limit=1000000.0 (bytes/sec)\n",
            "NotebookApp.rate_limit_window=3.0 (secs)\n",
            "\n"
          ]
        }
      ],
      "source": [
        "\n",
        "# Tokenize input data\n",
        "tokenizer = Tokenizer()\n",
        "tokenizer.fit_on_texts(texts + summaries)\n",
        "input_sequences = tokenizer.texts_to_sequences(texts)\n",
        "summary_sequences = tokenizer.texts_to_sequences(summaries)\n",
        "print(input_sequences)"
      ]
    },
    {
      "cell_type": "code",
      "execution_count": null,
      "metadata": {
        "colab": {
          "base_uri": "https://localhost:8080/"
        },
        "id": "UObb_NhaR_zU",
        "outputId": "4f90d141-0592-4462-8504-1ef4a9d71f62"
      },
      "outputs": [
        {
          "output_type": "stream",
          "name": "stdout",
          "text": [
            "11490\n",
            "11490\n"
          ]
        }
      ],
      "source": [
        "input_sequence=len(input_sequences)\n",
        "print(input_sequence)\n",
        "summary_sequence=len(summary_sequences)\n",
        "print(summary_sequence)\n"
      ]
    },
    {
      "cell_type": "code",
      "execution_count": null,
      "metadata": {
        "id": "Rp9tGiydQosN"
      },
      "outputs": [],
      "source": [
        "\n",
        "# Pad sequences\n",
        "max_len = max(len(seq) for seq in input_sequences)\n",
        "input_sequences = pad_sequences(input_sequences, maxlen=max_len, padding='post')\n",
        "summary_sequences = pad_sequences(summary_sequences, maxlen=max_len, padding='post')\n"
      ]
    },
    {
      "cell_type": "code",
      "execution_count": null,
      "metadata": {
        "colab": {
          "base_uri": "https://localhost:8080/"
        },
        "id": "CFXfEocUh2pc",
        "outputId": "7816dd6e-742c-4432-f9be-c19022f6857f"
      },
      "outputs": [
        {
          "output_type": "stream",
          "name": "stdout",
          "text": [
            "Model: \"model_11\"\n",
            "__________________________________________________________________________________________________\n",
            " Layer (type)                   Output Shape         Param #     Connected to                     \n",
            "==================================================================================================\n",
            " input_29 (InputLayer)          [(None, None)]       0           []                               \n",
            "                                                                                                  \n",
            " input_30 (InputLayer)          [(None, None)]       0           []                               \n",
            "                                                                                                  \n",
            " embedding_28 (Embedding)       (None, None, 200)    2000000     ['input_29[0][0]']               \n",
            "                                                                                                  \n",
            " embedding_29 (Embedding)       (None, None, 200)    2000000     ['input_30[0][0]']               \n",
            "                                                                                                  \n",
            " lstm_28 (LSTM)                 [(None, 200),        320800      ['embedding_28[0][0]']           \n",
            "                                 (None, 200),                                                     \n",
            "                                 (None, 200)]                                                     \n",
            "                                                                                                  \n",
            " lstm_29 (LSTM)                 [(None, None, 200),  320800      ['embedding_29[0][0]',           \n",
            "                                 (None, 200),                     'lstm_28[0][1]',                \n",
            "                                 (None, 200)]                     'lstm_28[0][2]']                \n",
            "                                                                                                  \n",
            " dense_14 (Dense)               (None, None, 10000)  2010000     ['lstm_29[0][0]']                \n",
            "                                                                                                  \n",
            "==================================================================================================\n",
            "Total params: 6,651,600\n",
            "Trainable params: 6,651,600\n",
            "Non-trainable params: 0\n",
            "__________________________________________________________________________________________________\n"
          ]
        }
      ],
      "source": [
        "#import transformers\n",
        "from tensorflow.keras.models import Model\n",
        "from tensorflow.keras.optimizers import Adam\n",
        "from tensorflow.keras.losses import SparseCategoricalCrossentropy\n",
        "from tensorflow.keras.metrics import SparseCategoricalAccuracy\n",
        "from tensorflow.keras.activations import softmax\n",
        "from tensorflow import keras\n",
        "model = keras.models.Sequential()\n",
        "\n",
        "\n",
        "\n",
        "#import tensorflow as tf\n",
        "from tensorflow.keras.layers import Input, Embedding, LSTM, Dense\n",
        "from tensorflow.keras.models import Model\n",
        "from keras.models import Sequential\n",
        "\n",
        "\n",
        "# Define the input and output shape\n",
        "input_shape = (None,)  # Variable-length input sequences\n",
        "output_shape = (None,)  # Variable-length output sequences\n",
        "vocab_size =10000\n",
        "embedding_dim=200\n",
        "hidden_dim=200\n",
        "\n",
        "\n",
        "# Define the encoder\n",
        "encoder_inputs = Input(shape=input_shape)\n",
        "encoder_embedding = Embedding(vocab_size, embedding_dim)(encoder_inputs)\n",
        "encoder_outputs, state_h, state_c = LSTM(hidden_dim, return_state=True)(encoder_embedding)\n",
        "encoder_states = [state_h, state_c]\n",
        "\n",
        "# Define the decoder\n",
        "decoder_inputs = Input(shape=output_shape)\n",
        "decoder_embedding = Embedding(vocab_size, embedding_dim)(decoder_inputs)\n",
        "decoder_lstm = LSTM(hidden_dim, return_sequences=True, return_state=True)\n",
        "\n",
        "decoder_outputs, _, _ = decoder_lstm(decoder_embedding, initial_state=encoder_states)\n",
        "decoder_dense = Dense(vocab_size, activation='softmax')\n",
        "decoder_outputs = decoder_dense(decoder_outputs)\n",
        "\n",
        "# Define the model\n",
        "model= Sequential()\n",
        "model=Model([encoder_inputs, decoder_inputs], decoder_outputs)\n",
        "#model=Model([encoder_inputs, decoder_inputs])\n",
        "# Compile the model\n",
        "model.compile(optimizer='adam', loss='mean_squared_logarithmic_error', metrics=['accuracy'])\n",
        "\n",
        "# Print the model summary\n",
        "model.summary()\n"
      ]
    },
    {
      "cell_type": "code",
      "source": [
        "from sklearn.model_selection import train_test_split\n",
        "X_train, X_test, y_train, y_test = train_test_split(texts, summaries, test_size=0.20, random_state=10)\n",
        "#X_train_encoder, X_test_encoder, y_train_decoder, y_test_decoder = train_test_split(texts, summaries, test_size=0.20, random_state=10)\n",
        "print('X_train:',X_train.shape)\n",
        "print('X_test:',X_test.shape)\n",
        "print('y_train:',y_train.shape)\n",
        "print('y_test:',y_test.shape)\n"
      ],
      "metadata": {
        "colab": {
          "base_uri": "https://localhost:8080/"
        },
        "id": "lWFVtJuVgjHR",
        "outputId": "9c16adb4-ac67-4e75-90ea-1a82ec58ca4a"
      },
      "execution_count": null,
      "outputs": [
        {
          "output_type": "stream",
          "name": "stdout",
          "text": [
            "X_train: (9192,)\n",
            "X_test: (2298,)\n",
            "y_train: (9192,)\n",
            "y_test: (2298,)\n"
          ]
        }
      ]
    },
    {
      "cell_type": "code",
      "execution_count": null,
      "metadata": {
        "id": "u8NiCOQsjMki",
        "colab": {
          "base_uri": "https://localhost:8080/",
          "height": 1000
        },
        "outputId": "2cba4b57-c514-4ad9-e9a3-524e24591424"
      },
      "outputs": [
        {
          "output_type": "stream",
          "name": "stdout",
          "text": [
            "Epoch 1/10\n"
          ]
        },
        {
          "output_type": "error",
          "ename": "UnimplementedError",
          "evalue": "ignored",
          "traceback": [
            "\u001b[0;31m---------------------------------------------------------------------------\u001b[0m",
            "\u001b[0;31mUnimplementedError\u001b[0m                        Traceback (most recent call last)",
            "\u001b[0;32m<ipython-input-124-1780c6ff9175>\u001b[0m in \u001b[0;36m<cell line: 3>\u001b[0;34m()\u001b[0m\n\u001b[1;32m      1\u001b[0m \u001b[0;31m#model.fit(X_train, y_train,y_test, epochs=10, validation_data=(X_test, y_test))\u001b[0m\u001b[0;34m\u001b[0m\u001b[0;34m\u001b[0m\u001b[0m\n\u001b[1;32m      2\u001b[0m \u001b[0;31m#history = model.fit([X_train_encoder, X_train_decoder], y_train, epochs=10, validation_data=([X_test_encoder, X_test_decoder], y_test))\u001b[0m\u001b[0;34m\u001b[0m\u001b[0;34m\u001b[0m\u001b[0m\n\u001b[0;32m----> 3\u001b[0;31m \u001b[0mmodel\u001b[0m\u001b[0;34m.\u001b[0m\u001b[0mfit\u001b[0m\u001b[0;34m(\u001b[0m\u001b[0;34m[\u001b[0m\u001b[0mX_train\u001b[0m\u001b[0;34m,\u001b[0m\u001b[0mX_train\u001b[0m\u001b[0;34m]\u001b[0m\u001b[0;34m,\u001b[0m\u001b[0my_train\u001b[0m\u001b[0;34m,\u001b[0m\u001b[0mepochs\u001b[0m\u001b[0;34m=\u001b[0m\u001b[0;36m10\u001b[0m\u001b[0;34m,\u001b[0m\u001b[0mvalidation_data\u001b[0m\u001b[0;34m=\u001b[0m\u001b[0;34m(\u001b[0m\u001b[0;34m[\u001b[0m\u001b[0mX_test\u001b[0m\u001b[0;34m,\u001b[0m \u001b[0mX_test\u001b[0m\u001b[0;34m]\u001b[0m\u001b[0;34m,\u001b[0m \u001b[0my_test\u001b[0m\u001b[0;34m)\u001b[0m\u001b[0;34m)\u001b[0m\u001b[0;34m\u001b[0m\u001b[0;34m\u001b[0m\u001b[0m\n\u001b[0m\u001b[1;32m      4\u001b[0m \u001b[0;34m\u001b[0m\u001b[0m\n\u001b[1;32m      5\u001b[0m \u001b[0;31m#model.fit([X_train_encoder, X_train_decoder], y_train, epochs=10, validation_data=([X_test_encoder, X_test_decoder], y_test))\u001b[0m\u001b[0;34m\u001b[0m\u001b[0;34m\u001b[0m\u001b[0m\n",
            "\u001b[0;32m/usr/local/lib/python3.10/dist-packages/keras/utils/traceback_utils.py\u001b[0m in \u001b[0;36merror_handler\u001b[0;34m(*args, **kwargs)\u001b[0m\n\u001b[1;32m     68\u001b[0m             \u001b[0;31m# To get the full stack trace, call:\u001b[0m\u001b[0;34m\u001b[0m\u001b[0;34m\u001b[0m\u001b[0m\n\u001b[1;32m     69\u001b[0m             \u001b[0;31m# `tf.debugging.disable_traceback_filtering()`\u001b[0m\u001b[0;34m\u001b[0m\u001b[0;34m\u001b[0m\u001b[0m\n\u001b[0;32m---> 70\u001b[0;31m             \u001b[0;32mraise\u001b[0m \u001b[0me\u001b[0m\u001b[0;34m.\u001b[0m\u001b[0mwith_traceback\u001b[0m\u001b[0;34m(\u001b[0m\u001b[0mfiltered_tb\u001b[0m\u001b[0;34m)\u001b[0m \u001b[0;32mfrom\u001b[0m \u001b[0;32mNone\u001b[0m\u001b[0;34m\u001b[0m\u001b[0;34m\u001b[0m\u001b[0m\n\u001b[0m\u001b[1;32m     71\u001b[0m         \u001b[0;32mfinally\u001b[0m\u001b[0;34m:\u001b[0m\u001b[0;34m\u001b[0m\u001b[0;34m\u001b[0m\u001b[0m\n\u001b[1;32m     72\u001b[0m             \u001b[0;32mdel\u001b[0m \u001b[0mfiltered_tb\u001b[0m\u001b[0;34m\u001b[0m\u001b[0;34m\u001b[0m\u001b[0m\n",
            "\u001b[0;32m/usr/local/lib/python3.10/dist-packages/tensorflow/python/eager/execute.py\u001b[0m in \u001b[0;36mquick_execute\u001b[0;34m(op_name, num_outputs, inputs, attrs, ctx, name)\u001b[0m\n\u001b[1;32m     50\u001b[0m   \u001b[0;32mtry\u001b[0m\u001b[0;34m:\u001b[0m\u001b[0;34m\u001b[0m\u001b[0;34m\u001b[0m\u001b[0m\n\u001b[1;32m     51\u001b[0m     \u001b[0mctx\u001b[0m\u001b[0;34m.\u001b[0m\u001b[0mensure_initialized\u001b[0m\u001b[0;34m(\u001b[0m\u001b[0;34m)\u001b[0m\u001b[0;34m\u001b[0m\u001b[0;34m\u001b[0m\u001b[0m\n\u001b[0;32m---> 52\u001b[0;31m     tensors = pywrap_tfe.TFE_Py_Execute(ctx._handle, device_name, op_name,\n\u001b[0m\u001b[1;32m     53\u001b[0m                                         inputs, attrs, num_outputs)\n\u001b[1;32m     54\u001b[0m   \u001b[0;32mexcept\u001b[0m \u001b[0mcore\u001b[0m\u001b[0;34m.\u001b[0m\u001b[0m_NotOkStatusException\u001b[0m \u001b[0;32mas\u001b[0m \u001b[0me\u001b[0m\u001b[0;34m:\u001b[0m\u001b[0;34m\u001b[0m\u001b[0;34m\u001b[0m\u001b[0m\n",
            "\u001b[0;31mUnimplementedError\u001b[0m: Graph execution error:\n\nDetected at node 'model_11/Cast' defined at (most recent call last):\n    File \"/usr/lib/python3.10/runpy.py\", line 196, in _run_module_as_main\n      return _run_code(code, main_globals, None,\n    File \"/usr/lib/python3.10/runpy.py\", line 86, in _run_code\n      exec(code, run_globals)\n    File \"/usr/local/lib/python3.10/dist-packages/ipykernel_launcher.py\", line 16, in <module>\n      app.launch_new_instance()\n    File \"/usr/local/lib/python3.10/dist-packages/traitlets/config/application.py\", line 992, in launch_instance\n      app.start()\n    File \"/usr/local/lib/python3.10/dist-packages/ipykernel/kernelapp.py\", line 619, in start\n      self.io_loop.start()\n    File \"/usr/local/lib/python3.10/dist-packages/tornado/platform/asyncio.py\", line 195, in start\n      self.asyncio_loop.run_forever()\n    File \"/usr/lib/python3.10/asyncio/base_events.py\", line 603, in run_forever\n      self._run_once()\n    File \"/usr/lib/python3.10/asyncio/base_events.py\", line 1909, in _run_once\n      handle._run()\n    File \"/usr/lib/python3.10/asyncio/events.py\", line 80, in _run\n      self._context.run(self._callback, *self._args)\n    File \"/usr/local/lib/python3.10/dist-packages/tornado/ioloop.py\", line 685, in <lambda>\n      lambda f: self._run_callback(functools.partial(callback, future))\n    File \"/usr/local/lib/python3.10/dist-packages/tornado/ioloop.py\", line 738, in _run_callback\n      ret = callback()\n    File \"/usr/local/lib/python3.10/dist-packages/tornado/gen.py\", line 825, in inner\n      self.ctx_run(self.run)\n    File \"/usr/local/lib/python3.10/dist-packages/tornado/gen.py\", line 786, in run\n      yielded = self.gen.send(value)\n    File \"/usr/local/lib/python3.10/dist-packages/ipykernel/kernelbase.py\", line 361, in process_one\n      yield gen.maybe_future(dispatch(*args))\n    File \"/usr/local/lib/python3.10/dist-packages/tornado/gen.py\", line 234, in wrapper\n      yielded = ctx_run(next, result)\n    File \"/usr/local/lib/python3.10/dist-packages/ipykernel/kernelbase.py\", line 261, in dispatch_shell\n      yield gen.maybe_future(handler(stream, idents, msg))\n    File \"/usr/local/lib/python3.10/dist-packages/tornado/gen.py\", line 234, in wrapper\n      yielded = ctx_run(next, result)\n    File \"/usr/local/lib/python3.10/dist-packages/ipykernel/kernelbase.py\", line 539, in execute_request\n      self.do_execute(\n    File \"/usr/local/lib/python3.10/dist-packages/tornado/gen.py\", line 234, in wrapper\n      yielded = ctx_run(next, result)\n    File \"/usr/local/lib/python3.10/dist-packages/ipykernel/ipkernel.py\", line 302, in do_execute\n      res = shell.run_cell(code, store_history=store_history, silent=silent)\n    File \"/usr/local/lib/python3.10/dist-packages/ipykernel/zmqshell.py\", line 539, in run_cell\n      return super(ZMQInteractiveShell, self).run_cell(*args, **kwargs)\n    File \"/usr/local/lib/python3.10/dist-packages/IPython/core/interactiveshell.py\", line 2975, in run_cell\n      result = self._run_cell(\n    File \"/usr/local/lib/python3.10/dist-packages/IPython/core/interactiveshell.py\", line 3030, in _run_cell\n      return runner(coro)\n    File \"/usr/local/lib/python3.10/dist-packages/IPython/core/async_helpers.py\", line 78, in _pseudo_sync_runner\n      coro.send(None)\n    File \"/usr/local/lib/python3.10/dist-packages/IPython/core/interactiveshell.py\", line 3257, in run_cell_async\n      has_raised = await self.run_ast_nodes(code_ast.body, cell_name,\n    File \"/usr/local/lib/python3.10/dist-packages/IPython/core/interactiveshell.py\", line 3473, in run_ast_nodes\n      if (await self.run_code(code, result,  async_=asy)):\n    File \"/usr/local/lib/python3.10/dist-packages/IPython/core/interactiveshell.py\", line 3553, in run_code\n      exec(code_obj, self.user_global_ns, self.user_ns)\n    File \"<ipython-input-122-71fe2d41d741>\", line 3, in <cell line: 3>\n      hisyory=model.fit([X_train,X_train],y_train,epochs=10,validation_data=([X_test, X_test], y_test))\n    File \"/usr/local/lib/python3.10/dist-packages/keras/utils/traceback_utils.py\", line 65, in error_handler\n      return fn(*args, **kwargs)\n    File \"/usr/local/lib/python3.10/dist-packages/keras/engine/training.py\", line 1685, in fit\n      tmp_logs = self.train_function(iterator)\n    File \"/usr/local/lib/python3.10/dist-packages/keras/engine/training.py\", line 1284, in train_function\n      return step_function(self, iterator)\n    File \"/usr/local/lib/python3.10/dist-packages/keras/engine/training.py\", line 1268, in step_function\n      outputs = model.distribute_strategy.run(run_step, args=(data,))\n    File \"/usr/local/lib/python3.10/dist-packages/keras/engine/training.py\", line 1249, in run_step\n      outputs = model.train_step(data)\n    File \"/usr/local/lib/python3.10/dist-packages/keras/engine/training.py\", line 1050, in train_step\n      y_pred = self(x, training=True)\n    File \"/usr/local/lib/python3.10/dist-packages/keras/utils/traceback_utils.py\", line 65, in error_handler\n      return fn(*args, **kwargs)\n    File \"/usr/local/lib/python3.10/dist-packages/keras/engine/training.py\", line 558, in __call__\n      return super().__call__(*args, **kwargs)\n    File \"/usr/local/lib/python3.10/dist-packages/keras/utils/traceback_utils.py\", line 65, in error_handler\n      return fn(*args, **kwargs)\n    File \"/usr/local/lib/python3.10/dist-packages/keras/engine/base_layer.py\", line 1145, in __call__\n      outputs = call_fn(inputs, *args, **kwargs)\n    File \"/usr/local/lib/python3.10/dist-packages/keras/utils/traceback_utils.py\", line 96, in error_handler\n      return fn(*args, **kwargs)\n    File \"/usr/local/lib/python3.10/dist-packages/keras/engine/functional.py\", line 512, in call\n      return self._run_internal_graph(inputs, training=training, mask=mask)\n    File \"/usr/local/lib/python3.10/dist-packages/keras/engine/functional.py\", line 651, in _run_internal_graph\n      y = self._conform_to_reference_input(y, ref_input=x)\n    File \"/usr/local/lib/python3.10/dist-packages/keras/engine/functional.py\", line 748, in _conform_to_reference_input\n      tensor = tf.cast(tensor, dtype=ref_input.dtype)\nNode: 'model_11/Cast'\nCast string to float is not supported\n\t [[{{node model_11/Cast}}]] [Op:__inference_train_function_31838]"
          ]
        }
      ],
      "source": [
        "#model.fit(X_train, y_train,y_test, epochs=10, validation_data=(X_test, y_test))\n",
        "#history = model.fit([X_train_encoder, X_train_decoder], y_train, epochs=10, validation_data=([X_test_encoder, X_test_decoder], y_test))\n",
        "model.fit([X_train,X_train],y_train,epochs=10,validation_data=([X_test, X_test], y_test))\n",
        "\n",
        "#model.fit([X_train_encoder, X_train_decoder], y_train, epochs=10, validation_data=([X_test_encoder, X_test_decoder], y_test))"
      ]
    },
    {
      "cell_type": "markdown",
      "source": [],
      "metadata": {
        "id": "K4hX0extKxGU"
      }
    },
    {
      "cell_type": "code",
      "source": [],
      "metadata": {
        "id": "FQKjL5lF_X4R"
      },
      "execution_count": null,
      "outputs": []
    },
    {
      "cell_type": "code",
      "source": [],
      "metadata": {
        "id": "5Lfb4r0cKxVs"
      },
      "execution_count": null,
      "outputs": []
    }
  ],
  "metadata": {
    "colab": {
      "provenance": [],
      "mount_file_id": "1dy0xMP08Vylf4r_-OPd50hhmBDY6n0CK",
      "authorship_tag": "ABX9TyPkKirb3Cadmecn5lRZZFA+",
      "include_colab_link": true
    },
    "kernelspec": {
      "display_name": "Python 3",
      "name": "python3"
    },
    "language_info": {
      "name": "python"
    }
  },
  "nbformat": 4,
  "nbformat_minor": 0
}